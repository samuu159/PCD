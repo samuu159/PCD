{
 "cells": [
  {
   "cell_type": "markdown",
   "id": "b7d5b60c-c2b8-43f0-9a79-314b8a2ccb0b",
   "metadata": {},
   "source": [
    "<!-- PROFILE LINK -->\n",
    "\n",
    "<h1 style = \"text-align:center; font-size: 30px\">PROGRAMACIÓN CONCURRENTE Y DISTRIBUIDA</h1>\n",
    "<a href =\"https://github.com/samuu159/PCD\">\n",
    "<img src=\"https://avatars.githubusercontent.com/u/100205384?v=4\" style=\"float:left;vertical-align:centre\" width=\"110\" height=\"110\" title = \"Christian Vlaldimir Sucuzhanay Arevalo 21535220\">\n",
    "<a href =\"https://github.com/samuu159/PCD\">\n",
    "<img src=\"https://media-exp1.licdn.com/dms/image/C4D0BAQEu_Aa76fcmPw/company-logo_200_200/0/1630998679429?e=2159024400&v=beta&t=2feC9GG7RWCWizTqsK5HzDWB1TL2DOQuAVwnMf6FFvk\" title = \"M41\" alt=\"UE\" width=\"110\" height=\"110\" style=\"float:right;vertical-align:centre\">"
   ]
  },
  {
   "cell_type": "markdown",
   "id": "fe663063-4281-4e19-a6cf-a01ce96460e7",
   "metadata": {},
   "source": [
    "## CLASE CLIENTE"
   ]
  },
  {
   "cell_type": "code",
   "execution_count": 1,
   "id": "0c9985cd-87c8-4f05-92a1-0d1459f4793d",
   "metadata": {},
   "outputs": [
    {
     "name": "stdin",
     "output_type": "stream",
     "text": [
      "Intoduzca el nickname:   \n",
      "Intoduzca la IP del servidor ?   \n",
      "Intoduzca el PUERTO del servidor ?   \n"
     ]
    },
    {
     "ename": "ValueError",
     "evalue": "invalid literal for int() with base 10: ''",
     "output_type": "error",
     "traceback": [
      "\u001b[0;31m---------------------------------------------------------------------------\u001b[0m",
      "\u001b[0;31mValueError\u001b[0m                                Traceback (most recent call last)",
      "Cell \u001b[0;32mIn [1], line 8\u001b[0m\n\u001b[1;32m      5\u001b[0m \u001b[38;5;28;01mimport\u001b[39;00m \u001b[38;5;21;01mpickle\u001b[39;00m\n\u001b[1;32m      6\u001b[0m \u001b[38;5;28;01mimport\u001b[39;00m \u001b[38;5;21;01mos\u001b[39;00m\n\u001b[0;32m----> 8\u001b[0m \u001b[38;5;28;01mclass\u001b[39;00m \u001b[38;5;21;01mCliente\u001b[39;00m():\n\u001b[1;32m     10\u001b[0m \t\u001b[38;5;28;01mdef\u001b[39;00m \u001b[38;5;21m__init__\u001b[39m(\u001b[38;5;28mself\u001b[39m, name\u001b[38;5;241m=\u001b[39m\u001b[38;5;28minput\u001b[39m(\u001b[38;5;124m\"\u001b[39m\u001b[38;5;124mIntoduzca el nickname:  \u001b[39m\u001b[38;5;124m\"\u001b[39m), host\u001b[38;5;241m=\u001b[39m\u001b[38;5;28minput\u001b[39m(\u001b[38;5;124m\"\u001b[39m\u001b[38;5;124mIntoduzca la IP del servidor ?  \u001b[39m\u001b[38;5;124m\"\u001b[39m), port\u001b[38;5;241m=\u001b[39m\u001b[38;5;28mint\u001b[39m(\u001b[38;5;28minput\u001b[39m(\u001b[38;5;124m\"\u001b[39m\u001b[38;5;124mIntoduzca el PUERTO del servidor ?  \u001b[39m\u001b[38;5;124m\"\u001b[39m))): \u001b[38;5;66;03m#Función que pide al cliente el nickname(correo de la universidad) y el puerto\u001b[39;00m\n\u001b[1;32m     11\u001b[0m \t\t\u001b[38;5;28mself\u001b[39m\u001b[38;5;241m.\u001b[39ms \u001b[38;5;241m=\u001b[39m socket\u001b[38;5;241m.\u001b[39msocket()\n",
      "Cell \u001b[0;32mIn [1], line 10\u001b[0m, in \u001b[0;36mCliente\u001b[0;34m()\u001b[0m\n\u001b[1;32m      8\u001b[0m \u001b[38;5;28;01mclass\u001b[39;00m \u001b[38;5;21;01mCliente\u001b[39;00m():\n\u001b[0;32m---> 10\u001b[0m \t\u001b[38;5;28;01mdef\u001b[39;00m \u001b[38;5;21m__init__\u001b[39m(\u001b[38;5;28mself\u001b[39m, name\u001b[38;5;241m=\u001b[39m\u001b[38;5;28minput\u001b[39m(\u001b[38;5;124m\"\u001b[39m\u001b[38;5;124mIntoduzca el nickname:  \u001b[39m\u001b[38;5;124m\"\u001b[39m), host\u001b[38;5;241m=\u001b[39m\u001b[38;5;28minput\u001b[39m(\u001b[38;5;124m\"\u001b[39m\u001b[38;5;124mIntoduzca la IP del servidor ?  \u001b[39m\u001b[38;5;124m\"\u001b[39m), port\u001b[38;5;241m=\u001b[39m\u001b[38;5;28;43mint\u001b[39;49m\u001b[43m(\u001b[49m\u001b[38;5;28;43minput\u001b[39;49m\u001b[43m(\u001b[49m\u001b[38;5;124;43m\"\u001b[39;49m\u001b[38;5;124;43mIntoduzca el PUERTO del servidor ?  \u001b[39;49m\u001b[38;5;124;43m\"\u001b[39;49m\u001b[43m)\u001b[49m\u001b[43m)\u001b[49m): \u001b[38;5;66;03m#Función que pide al cliente el nickname(correo de la universidad) y el puerto\u001b[39;00m\n\u001b[1;32m     11\u001b[0m \t\t\u001b[38;5;28mself\u001b[39m\u001b[38;5;241m.\u001b[39ms \u001b[38;5;241m=\u001b[39m socket\u001b[38;5;241m.\u001b[39msocket()\n\u001b[1;32m     12\u001b[0m \t\t\u001b[38;5;28mself\u001b[39m\u001b[38;5;241m.\u001b[39ms\u001b[38;5;241m.\u001b[39mconnect((host, \u001b[38;5;28mint\u001b[39m(port)))\u001b[38;5;66;03m#Conecta el host con el puerto\u001b[39;00m\n",
      "\u001b[0;31mValueError\u001b[0m: invalid literal for int() with base 10: ''"
     ]
    }
   ],
   "source": [
    "#Empezamos importando las bibliotecas necesarias\n",
    "import threading\n",
    "import sys\n",
    "import socket\n",
    "import pickle\n",
    "import os\n",
    "\n",
    "class Cliente():\n",
    "\t\n",
    "\tdef __init__(self, name=input(\"Intoduzca el nickname:  \"), host=input(\"Intoduzca la IP del servidor ?  \"), port=int(input(\"Intoduzca el PUERTO del servidor ?  \"))): #Función que pide al cliente el nickname(correo de la universidad) y el puerto\n",
    "\t\tself.s = socket.socket()\n",
    "\t\tself.s.connect((host, int(port)))#Conecta el host con el puerto\n",
    "\n",
    "\t\tself.name=name\n",
    "\t\tself.s.send(name.encode())#Pasamos el nickname al servidor para que tenga el dato y poder manejarlo después\n",
    "\t\tprint('\\n\\tProceso con PID = ',os.getpid(), '\\n\\tHilo PRINCIPAL con ID =',threading.currentThread().getName(), '\\n\\tHilo en modo DAEMON = ', threading.currentThread().isDaemon(),'\\n\\tTotal Hilos activos en este punto del programa =', threading.active_count())#Imprime los hilos que se van a utilizar\n",
    "\t\tthreading.Thread(target=self.recibir, daemon=True).start()\n",
    "\n",
    "\t\twhile True:\n",
    "\t\t\tmsg = input('\\n Nickname: ' + self.name + '\\tEscriba texto ?   ** Enviar = ENTER   ** Salir Chat = 1 \\n')#Menú que le va a salir al cliente en el cual va a aprecer el nickname y una opción para poder enviar un mensaje. Para salir del menú tendra que pulsar 1.\n",
    "\t\t\tif msg != '1' : self.enviar(msg)#Si el ususario escribe otra cosa que no es 1 envía el mensaje\n",
    "\t\t\telse:\n",
    "\t\t\t\tprint(\" **** Me piro vampiro; cierro socket y mato al CLIENTE con PID = \", os.getpid())#Mensaje que le va a salir cuando pulse 1 y cierre el cliente\n",
    "\t\t\t\tself.s.close()\n",
    "\t\t\t\tsys.exit()\n",
    "\n",
    "\tdef recibir(self):#Función para poder ver los hilos que van a salir y los que están activos en este momento\n",
    "\t\tprint('\\nHilo RECIBIR con ID =',threading.currentThread().getName(), '\\n\\tPertenece al PROCESO con PID', os.getpid(), \"\\n\\tHilos activos TOTALES \", threading.active_count())\n",
    "\t\twhile True:\n",
    "\t\t\ttry:\n",
    "\t\t\t\tdata = self.s.recv(32)\n",
    "\t\t\t\tif data: print(pickle.loads(data))\n",
    "\t\t\texcept: pass\n",
    "\n",
    "\tdef enviar(self, msg):#Función que sirve para que aparezca el nickname al enviar el mensaje\n",
    "\t\tmensaje = f\"{self.name}: {msg}\"\n",
    "\t\tself.s.send(pickle.dumps(mensaje))\n",
    "\n",
    "arrancar = Cliente()#Función para arrancar el cliente"
   ]
  },
  {
   "cell_type": "markdown",
   "id": "84393ae2-b74a-4f61-b025-7e55765edbc8",
   "metadata": {},
   "source": [
    "## CLASE SERVIDOR"
   ]
  },
  {
   "cell_type": "code",
   "execution_count": null,
   "id": "10eb587a-60e8-4d6e-a7ba-fe7962b54f6e",
   "metadata": {},
   "outputs": [],
   "source": [
    "#Empezamos importando las bibliotecas necesarias\n",
    "import socket\n",
    "import threading\n",
    "import sys\n",
    "import pickle\n",
    "import os\n",
    "\n",
    "\n",
    "class Servidor():#Creamos la clase servidor\n",
    "\t\n",
    "\tdef __init__(self, host=socket.gethostname(), port=int(input(\"Que puerto quiere usar ? \"))):#Función que va a pedir al usuario el puerto que quiere usar\n",
    "\t\tself.clientes = []#Creamos array de clientes\n",
    "\t\tself.name =[]#Creamos array de nombres\n",
    "\t\tprint('\\nSu IP actual es : ',socket.gethostbyname(host))#Muestra la IP actual \n",
    "\t\tprint('\\n\\tProceso con PID = ',os.getpid(), '\\n\\tHilo PRINCIPAL con ID =',threading.currentThread().getName(), '\\n\\tHilo en modo DAEMON = ', threading.currentThread().isDaemon(), '\\n\\tTotal Hilos activos en este punto del programa =', threading.active_count())#Muestra los hilos totales del programa\n",
    "\t\tself.s = socket.socket()\n",
    "\t\tself.s.bind((str(host), int(port)))#Enlaza el host y el puerto\n",
    "\t\tself.s.listen(30)\n",
    "\t\tself.s.setblocking(False)\n",
    "\t\t\n",
    "\n",
    "\t\tthreading.Thread(target=self.aceptarC, daemon=True).start()\n",
    "\t\tthreading.Thread(target=self.procesarC, daemon=True).start()\n",
    "\n",
    "\t\twhile True:\n",
    "\t\t\tmsg = input('\\n << SALIR = 1 >> \\n')#Cerrar el servidor pulsando 1\n",
    "\t\t\tif msg == '1':\n",
    "\t\t\t\tprint(\" **** Me piro vampiro; cierro socket y mato SERVER con PID = \", os.getpid())#Mensaje que le va a salir al usuario cuando cierre el servidor\n",
    "\t\t\t\tself.s.close()\n",
    "\t\t\t\tsys.exit()\n",
    "\t\t\telse: pass\n",
    "\n",
    "\tdef aceptarC(self):#Función que sirve para aceptar el mensaje enviado por el cliente\n",
    "\t\tprint('\\nHilo ACEPTAR con ID =',threading.currentThread().getName(), '\\n\\tHilo en modo DAEMON = ', threading.currentThread().isDaemon(),'\\n\\tPertenece al PROCESO con PID', os.getpid(), \"\\n\\tHilos activos TOTALES \", threading.active_count())#Muestra los hilos totales\n",
    "\t\t\n",
    "\t\twhile True:\n",
    "\t\t\ttry:\n",
    "\t\t\t\tconn, addr = self.s.accept()\n",
    "\t\t\t\tprint(f\"\\nConexion aceptada via {addr}\\n\")#Conexion aceptada\n",
    "\t\t\t\tconn.setblocking(False)\n",
    "\t\t\t\tself.clientes.append(conn)\n",
    "\t\t\t\tdata = conn.recv(32).decode()\n",
    "\t\t\t\tif data:#Creamos un if para ver si el nickname es aceptado o no por el servidor\n",
    "\t\t\t\t\tname = data\n",
    "\t\t\t\t\tprint(\"Nickname aceptado\" , name)\n",
    "\t\t\t\t\tself.name.append(name)\n",
    "\t\t\texcept: pass\n",
    "\n",
    "\tdef procesarC(self):#Creamos la función procesar los mensajes que va recibiendo del cliente\n",
    "\t\tprint('\\nHilo PROCESAR con ID =',threading.currentThread().getName(), '\\n\\tHilo en modo DAEMON = ', threading.currentThread().isDaemon(),'\\n\\tPertenece al PROCESO con PID', os.getpid(), \"\\n\\tHilos activos TOTALES \", threading.active_count())#Ver hilos totales\n",
    "\t\twhile True:\n",
    "\t\t\tif len(self.clientes) > 0:\n",
    "\t\t\t\tfor c in self.clientes:\n",
    "\t\t\t\t\ttry:\n",
    "\t\t\t\t\t\tdata = c.recv(32)\n",
    "\t\t\t\t\t\tif data: self.broadcast(data,c)\n",
    "\t\t\t\t\t\twith open('ue22166872AI1.txt', 'a') as f:#Creamos el txt para ir añadiendo todos los mensajes que vaya recibiendo el servidor\n",
    "\t\t\t\t\t\t\tf.write(pickle.loads(data) + '\\n')#Los va poniendo uno detrás de otro\n",
    "\t\t\t\t\texcept: pass\n",
    "\n",
    "\tdef broadcast(self, msg, cliente):#Función para ver los clientes conectados e imprimir sus nicknames\n",
    "\t\tfor c in self.clientes:\n",
    "\t\t\tprint(\"Clientes conectados Right now = \", len(self.clientes), ' ',self.name, '\\tMensaje de: ', pickle.loads(msg))#Imprime el nickname del cliente que ha escrito el mensaje\n",
    "\t\t\ttry:\n",
    "\t\t\t\tif c != cliente: \n",
    "\t\t\t\t\t\n",
    "\t\t\t\t\tc.send(msg)\n",
    "\t\t\texcept: self.clientes.remove(c)\n",
    "\n",
    "arrancar = Servidor() #Función para arrancar el servidor"
   ]
  }
 ],
 "metadata": {
  "kernelspec": {
   "display_name": "Python 3 (ipykernel)",
   "language": "python",
   "name": "python3"
  },
  "language_info": {
   "codemirror_mode": {
    "name": "ipython",
    "version": 3
   },
   "file_extension": ".py",
   "mimetype": "text/x-python",
   "name": "python",
   "nbconvert_exporter": "python",
   "pygments_lexer": "ipython3",
   "version": "3.10.7"
  }
 },
 "nbformat": 4,
 "nbformat_minor": 5
}
