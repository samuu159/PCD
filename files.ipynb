{
 "cells": [
  {
   "cell_type": "code",
   "execution_count": 8,
   "id": "07998d5e-2496-4b8b-be78-b7e5da722a10",
   "metadata": {},
   "outputs": [],
   "source": [
    "with open(\"ue22166872.txt\", \"a\") as f:\n",
    "     f.write(\"Mi nickname es: samu\")"
   ]
  },
  {
   "cell_type": "code",
   "execution_count": 9,
   "id": "be88c095-3532-407e-8eff-3700ae758ddb",
   "metadata": {},
   "outputs": [
    {
     "name": "stdout",
     "output_type": "stream",
     "text": [
      "ue22166872.txt\n"
     ]
    }
   ],
   "source": [
    "!ls ue22166872.txt"
   ]
  },
  {
   "cell_type": "code",
   "execution_count": null,
   "id": "1e62ba57-7a83-4b67-9fe3-480848b9e9d2",
   "metadata": {},
   "outputs": [
    {
     "name": "stdout",
     "output_type": "stream",
     "text": [
      "Mi nickname es: samu\n",
      "\u001b[7mue22166872.txt (END)\u001b[m\u001b[K"
     ]
    }
   ],
   "source": [
    "! less ue22166872.txt"
   ]
  },
  {
   "cell_type": "code",
   "execution_count": null,
   "id": "b383db9b-0f97-466d-b65e-165c303993d8",
   "metadata": {},
   "outputs": [],
   "source": []
  }
 ],
 "metadata": {
  "kernelspec": {
   "display_name": "Python 3 (ipykernel)",
   "language": "python",
   "name": "python3"
  },
  "language_info": {
   "codemirror_mode": {
    "name": "ipython",
    "version": 3
   },
   "file_extension": ".py",
   "mimetype": "text/x-python",
   "name": "python",
   "nbconvert_exporter": "python",
   "pygments_lexer": "ipython3",
   "version": "3.10.7"
  }
 },
 "nbformat": 4,
 "nbformat_minor": 5
}
