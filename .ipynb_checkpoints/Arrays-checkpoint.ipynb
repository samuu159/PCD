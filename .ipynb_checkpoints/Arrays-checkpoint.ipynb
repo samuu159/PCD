{
 "cells": [
  {
   "cell_type": "code",
   "execution_count": 66,
   "id": "2b16377f-8768-4675-af21-f528faeeb64d",
   "metadata": {},
   "outputs": [],
   "source": [
    "import random #Para gnerar numbero entre A y B"
   ]
  },
  {
   "cell_type": "code",
   "execution_count": 23,
   "id": "0c0d9aa2-3f9e-4d27-a715-a7b3c36ab48d",
   "metadata": {},
   "outputs": [],
   "source": [
    "import math"
   ]
  },
  {
   "cell_type": "code",
   "execution_count": 24,
   "id": "72652783-b6ba-4ad9-9433-947d680fd79a",
   "metadata": {},
   "outputs": [],
   "source": [
    "import multiprocessing as mp # Para trabajar en paralelo"
   ]
  },
  {
   "cell_type": "code",
   "execution_count": 25,
   "id": "a94e67a0-3b8c-4959-ab7e-6d448df60ba8",
   "metadata": {},
   "outputs": [],
   "source": [
    "import time"
   ]
  },
  {
   "cell_type": "code",
   "execution_count": 38,
   "id": "6e1e004a-0040-4c3a-aea6-06c6dbdacb2e",
   "metadata": {},
   "outputs": [],
   "source": [
    "def sec_mult(A,B): #f() que calcula la mult. en secuencial, como toda la vida se ha hecho\n",
    "    C = [[0] * n_col_B for i in range (n_fil_A)] #Crear y probar la matrix C=A*B\n",
    "    for i in range(n_fil_A): #Hago la multiplicación de A*B = C, i para iterar sobre las filas de A\n",
    "        for j in range(n_col_B): # j para iterar sobre las columnas de B\n",
    "            for k in range(n_col_A): # k para iterar en C\n",
    "                C[i][j] += A[i][k] * B [k][j]# Aqui se hace la multiplicación y guardo en C\n",
    "    return C"
   ]
  },
  {
   "cell_type": "code",
   "execution_count": 65,
   "id": "b0ea7024-0ee6-4ced-a934-c4a9591e951f",
   "metadata": {},
   "outputs": [],
   "source": [
    "def par_mult(A,B):\n",
    "    n_cores = mp.cpu_count()\n",
    "    size_col = math.ceil(n_col_B/n_cores)\n",
    "    size_fil = math.ceil(n_fil_A/n_cores)\n",
    "    MC = mp.RawArray('i', n_fil_A * n_col_B)\n",
    "    cores = []\n",
    "    for core in range(n_cores):\n",
    "        i_MC = min(core * size_fil, n_fil_A)\n",
    "        f_MC = min((core+1) * size_fil, n_fil_A)\n",
    "        cores.append(mp.Process(target=par_core, args=(A, B, MC, i_MC, f_MC)))\n",
    "        for core in cores:\n",
    "            core.start()\n",
    "        for core in cores:\n",
    "            core.join()\n",
    "        C_2D = [[0] * n_col_B for i in range(n_fil_A)]\n",
    "        for i in range(n_fil_A):\n",
    "            for j in range(n_col_B):\n",
    "                C_2D[i][j] = MC[i*n_col_B + j]\n",
    "        return C_2D                      "
   ]
  },
  {
   "cell_type": "code",
   "execution_count": 63,
   "id": "8bc7e13f-7d9f-4b1f-a385-29b829256862",
   "metadata": {},
   "outputs": [],
   "source": [
    "def par_core(A,B,MC, i_MC, f_MC): #La tarea que hacen todos los cores\n",
    "    for i in range(i_MC, f_MC): # Size representando en colores en el excel que itera sobre las filas en A\n",
    "        for j in range(len(B[0])): #Size representando en colores en el excel que itera sobre las columnas en B\n",
    "            for k in range(len(A[0])): #n_fil_B o lo que es lo mismo el n_col_A\n",
    "                MC[i*len(B[0]) + j] += A[i][k] * B[k][j] #guarda el resultado en MC[] de cada core"
   ]
  },
  {
   "cell_type": "code",
   "execution_count": 76,
   "id": "8747cc1b-d74c-4825-b566-f0e002dfcf0b",
   "metadata": {},
   "outputs": [
    {
     "name": "stdout",
     "output_type": "stream",
     "text": [
      "\n",
      "\n",
      "Matriz A y B se han multiplicado con exito en SECUENCIAL ha tardado 0.09576296806335449  y en PARALELO 0.07574081420898438\n"
     ]
    },
    {
     "name": "stderr",
     "output_type": "stream",
     "text": [
      "Traceback (most recent call last):\n",
      "  File \"<string>\", line 1, in <module>\n",
      "  File \"/Library/Frameworks/Python.framework/Versions/3.10/lib/python3.10/multiprocessing/spawn.py\", line 116, in spawn_main\n",
      "    exitcode = _main(fd, parent_sentinel)\n",
      "  File \"/Library/Frameworks/Python.framework/Versions/3.10/lib/python3.10/multiprocessing/spawn.py\", line 126, in _main\n",
      "    self = reduction.pickle.load(from_parent)\n",
      "AttributeError: Can't get attribute 'par_core' on <module '__main__' (built-in)>\n"
     ]
    }
   ],
   "source": [
    "if __name__== '__main__':\n",
    "    A = [[random.randint(0,215) for i in range (6)] for j in range (200)]#Genero A[22166872]\n",
    "    B = [[random.randint(0,215) for i in range(200)] for j in range (6)]\n",
    "    n_fil_A = len(A)\n",
    "    n_col_A = len(A[0])\n",
    "    n_fil_B = len(B)\n",
    "    n_col_B = len(B[0])\n",
    "    if n_col_A != n_fil_B: raise Exception('Dimensiones no válidas')\n",
    "    inicioS = time.time()\n",
    "    sec_mult(A, B)\n",
    "    finS = time.time()\n",
    "    inicioP = time.time()\n",
    "    par_mult(A, B)\n",
    "    finP = time.time()\n",
    "    print('\\n\\nMatriz A y B se han multiplicado con exito en SECUENCIAL ha tardado', finS-inicioS,' y en PARALELO' , finP-inicioP)"
   ]
  },
  {
   "cell_type": "code",
   "execution_count": null,
   "id": "cff14bec-b5e7-4eae-9749-9682e7e50f64",
   "metadata": {},
   "outputs": [],
   "source": []
  }
 ],
 "metadata": {
  "kernelspec": {
   "display_name": "Python 3 (ipykernel)",
   "language": "python",
   "name": "python3"
  },
  "language_info": {
   "codemirror_mode": {
    "name": "ipython",
    "version": 3
   },
   "file_extension": ".py",
   "mimetype": "text/x-python",
   "name": "python",
   "nbconvert_exporter": "python",
   "pygments_lexer": "ipython3",
   "version": "3.10.7"
  }
 },
 "nbformat": 4,
 "nbformat_minor": 5
}
